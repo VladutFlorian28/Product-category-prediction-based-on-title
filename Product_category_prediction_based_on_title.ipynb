{
  "cells": [
    {
      "cell_type": "markdown",
      "metadata": {},
      "source": [
        "# Loading and inspecting the dataset\n",
        "\n",
        "In the first step we will:\n",
        "\n",
        "- Load the CSV file from GitHub\n",
        "- Check how many rows and columns we have\n",
        "- Display the first few rows\n",
        "- Review the data types and basic metadata for each column\n",
        "\n",
        "This will help us understand better the data we work with.\n"
      ]
    },
    {
      "cell_type": "markdown",
      "metadata": {
        "colab_type": "text",
        "id": "view-in-github"
      },
      "source": [
        "<a href=\"https://colab.research.google.com/github/VladutFlorian28/Product-category-prediction-based-on-title/blob/main/Product_category_prediction_based_on_title.ipynb\" target=\"_parent\"><img src=\"https://colab.research.google.com/assets/colab-badge.svg\" alt=\"Open In Colab\"/></a>"
      ]
    },
    {
      "cell_type": "code",
      "execution_count": 14,
      "metadata": {
        "id": "p_s-ZlGRrqfr"
      },
      "outputs": [
        {
          "name": "stdout",
          "output_type": "stream",
          "text": [
            "Dataset shape (rows, columns): (35311, 8)\n",
            "\n",
            "First 5 rows of the dataset:\n",
            "   product ID                                      Product Title  Merchant ID  \\\n",
            "0           1                    apple iphone 8 plus 64gb silver            1   \n",
            "1           2                apple iphone 8 plus 64 gb spacegrau            2   \n",
            "2           3  apple mq8n2b/a iphone 8 plus 64gb 5.5 12mp sim...            3   \n",
            "3           4                apple iphone 8 plus 64gb space grey            4   \n",
            "4           5  apple iphone 8 plus gold 5.5 64gb 4g unlocked ...            5   \n",
            "\n",
            "   Category Label _Product Code  Number_of_Views  Merchant Rating  \\\n",
            "0   Mobile Phones    QA-2276-XC            860.0              2.5   \n",
            "1   Mobile Phones    KA-2501-QO           3772.0              4.8   \n",
            "2   Mobile Phones    FP-8086-IE           3092.0              3.9   \n",
            "3   Mobile Phones    YI-0086-US            466.0              3.4   \n",
            "4   Mobile Phones    NZ-3586-WP           4426.0              1.6   \n",
            "\n",
            "   Listing Date    \n",
            "0       5/10/2024  \n",
            "1      12/31/2024  \n",
            "2      11/10/2024  \n",
            "3        5/2/2022  \n",
            "4       4/12/2023  \n",
            "Dataset info:\n",
            "<class 'pandas.core.frame.DataFrame'>\n",
            "RangeIndex: 35311 entries, 0 to 35310\n",
            "Data columns (total 8 columns):\n",
            " #   Column           Non-Null Count  Dtype  \n",
            "---  ------           --------------  -----  \n",
            " 0   product ID       35311 non-null  int64  \n",
            " 1   Product Title    35139 non-null  object \n",
            " 2   Merchant ID      35311 non-null  int64  \n",
            " 3    Category Label  35267 non-null  object \n",
            " 4   _Product Code    35216 non-null  object \n",
            " 5   Number_of_Views  35297 non-null  float64\n",
            " 6   Merchant Rating  35141 non-null  float64\n",
            " 7    Listing Date    35252 non-null  object \n",
            "dtypes: float64(2), int64(2), object(4)\n",
            "memory usage: 2.2+ MB\n",
            "None\n"
          ]
        }
      ],
      "source": [
        "import pandas as pd\n",
        "url = \"https://raw.githubusercontent.com/VladutFlorian28/Product-category-prediction-based-on-title/main/data/products.csv\"\n",
        "df = pd.read_csv(url)\n",
        "\n",
        "print(\"Dataset shape (rows, columns):\", df.shape)\n",
        "print(\"\\nFirst 5 rows of the dataset:\")\n",
        "print(df.head())\n",
        "print(\"Dataset info:\")\n",
        "print(df.info())"
      ]
    },
    {
      "cell_type": "markdown",
      "metadata": {},
      "source": [
        "# Checking the missing values\n",
        "Missing data can cause problems during analysis or model training. Here we will do:\n",
        "\n",
        "- Count the number of missing values(Nan) per column\n",
        "- Visualize missing values using a heatmap"
      ]
    },
    {
      "cell_type": "code",
      "execution_count": 24,
      "metadata": {},
      "outputs": [
        {
          "name": "stdout",
          "output_type": "stream",
          "text": [
            "Missing values per column:\n",
            "product ID           0\n",
            "Product Title      172\n",
            "Merchant ID          0\n",
            " Category Label     44\n",
            "_Product Code       95\n",
            "Number_of_Views     14\n",
            "Merchant Rating    170\n",
            " Listing Date       59\n",
            "dtype: int64\n"
          ]
        }
      ],
      "source": [
        "# Count missing values per column\n",
        "print(\"Missing values per column:\")\n",
        "print(df.isna().sum())\n"
      ]
    },
    {
      "cell_type": "code",
      "execution_count": null,
      "metadata": {},
      "outputs": [],
      "source": [
        "#Visualize missing values using a heatmap\n",
        "import seaborn as sns\n",
        "import matplotlib.pyplot as plt\n",
        "\n",
        "plt.figure(figsize=(10, 5))\n",
        "sns.heatmap(df.isna(), cbar=False, cmap=\"YlOrRd\")\n",
        "plt.title(\"Missing Values Heatmap\")\n",
        "plt.show()"
      ]
    },
    {
      "cell_type": "markdown",
      "metadata": {},
      "source": [
        "# Category analysis\n",
        "Lets check how many categories are and how are those named. This will help us:\n",
        "\n",
        "Understand the balance between classes\n",
        "See if the dataset is skewed"
      ]
    },
    {
      "cell_type": "code",
      "execution_count": 28,
      "metadata": {},
      "outputs": [
        {
          "name": "stdout",
          "output_type": "stream",
          "text": [
            "Category distribution (counts):\n",
            " Category Label\n",
            "fridge freezers     5495\n",
            "washing machines    4036\n",
            "mobile phones       4020\n",
            "cpus                3771\n",
            "tvs                 3564\n",
            "fridges             3457\n",
            "dishwashers         3418\n",
            "digital cameras     2696\n",
            "microwaves          2338\n",
            "freezers            2210\n",
            "fridge               123\n",
            "cpu                   84\n",
            "mobile phone          55\n",
            "Name: count, dtype: int64\n"
          ]
        }
      ],
      "source": [
        "category_counts = df[' Category Label'].str.lower().value_counts()\n",
        "print(\"Category distribution (counts):\")\n",
        "print(category_counts)"
      ]
    },
    {
      "cell_type": "markdown",
      "metadata": {},
      "source": [
        "# This code visualizes the distribution of sentiments in our dataset using a bar chart. It helps us:\n",
        "\n",
        "- Quickly see how many reviews are positive, negative, or neutral\n",
        "- Understand the balance between sentiment classes\n",
        "- Identify if the dataset is skewed toward a particular sentiment\n",
        "- Gain a visual overview of the overall sentiment trends\n"
      ]
    },
    {
      "cell_type": "code",
      "execution_count": 31,
      "metadata": {},
      "outputs": [
        {
          "data": {
            "image/png": "[encoded data removed]",
            "text/plain": [
              "<Figure size 1000x600 with 1 Axes>"
            ]
          },
          "metadata": {},
          "output_type": "display_data"
        }
      ],
      "source": [
        "# Plot category distribution\n",
        "import seaborn as sns\n",
        "import matplotlib.pyplot as plt\n",
        "\n",
        "plt.figure(figsize=(10, 6))\n",
        "plt.bar(category_counts.index, category_counts.values, color=['skyblue', 'salmon'])\n",
        "plt.title(\"Cateogry Distribution\")\n",
        "plt.xlabel(\"Category\")\n",
        "plt.ylabel(\"Number of Reviews\")\n",
        "plt.xticks(rotation=45 , ha='right')\n",
        "plt.show()"
      ]
    },
    {
      "cell_type": "code",
      "execution_count": null,
      "metadata": {},
      "outputs": [
        {
          "name": "stdout",
          "output_type": "stream",
          "text": [
            "Data type of product_price column: float64\n",
            "\n",
            "First 10 values in product_price column:\n",
            "0    2.5\n",
            "1    4.8\n",
            "2    3.9\n",
            "3    3.4\n",
            "4    1.6\n",
            "5    1.6\n",
            "6    1.2\n",
            "7    4.5\n",
            "8    3.4\n",
            "9    3.8\n",
            "Name: Merchant Rating, dtype: float64\n",
            "\n",
            "Top 20 most frequent values in product_price column:\n",
            "Merchant Rating\n",
            "2.6    938\n",
            "3.0    932\n",
            "1.4    918\n",
            "1.9    917\n",
            "4.6    915\n",
            "3.4    913\n",
            "3.6    911\n",
            "2.3    906\n",
            "1.3    905\n",
            "4.3    899\n",
            "2.4    895\n",
            "3.9    894\n",
            "1.7    893\n",
            "3.7    892\n",
            "1.2    891\n",
            "3.5    888\n",
            "3.8    888\n",
            "2.7    881\n",
            "3.3    880\n",
            "3.2    874\n",
            "Name: count, dtype: int64\n",
            "\n",
            "Found 0 rows with problematic textual values:\n"
          ]
        },
        {
          "data": {
            "text/html": [
              "<div>\n",
              "<style scoped>\n",
              "    .dataframe tbody tr th:only-of-type {\n",
              "        vertical-align: middle;\n",
              "    }\n",
              "\n",
              "    .dataframe tbody tr th {\n",
              "        vertical-align: top;\n",
              "    }\n",
              "\n",
              "    .dataframe thead th {\n",
              "        text-align: right;\n",
              "    }\n",
              "</style>\n",
              "<table border=\"1\" class=\"dataframe\">\n",
              "  <thead>\n",
              "    <tr style=\"text-align: right;\">\n",
              "      <th></th>\n",
              "      <th>Merchant Rating</th>\n",
              "    </tr>\n",
              "  </thead>\n",
              "  <tbody>\n",
              "  </tbody>\n",
              "</table>\n",
              "</div>"
            ],
            "text/plain": [
              "Empty DataFrame\n",
              "Columns: [Merchant Rating]\n",
              "Index: []"
            ]
          },
          "metadata": {},
          "output_type": "display_data"
        }
      ],
      "source": [
        "# 1. Check the data type of the 'Merchant Rating' column\n",
        "print(\"Data type of product_price column:\", df['Merchant Rating'].dtype)\n",
        "# 2. Display the first 10 values from the column\n",
        "print(\"\\nFirst 10 values in product_price column:\")\n",
        "print(df['Merchant Rating'].head(10))\n",
        "# 3. Show the 20 most frequent values in the column\n",
        "print(\"\\nTop 20 most frequent values in product_price column:\")\n",
        "print(df['Merchant Rating'].value_counts().head(20))\n",
        "# 4. Check for known non-numeric text values\n",
        "problematic_values = ['Free', 'Not Available', 'N/A', 'None', '-', 'free', 'unknown', 'Unavailable']\n",
        "# Identify rows containing these specific non-numeric values\n",
        "mask_problematic = df['Merchant Rating'].astype(str).str.strip().isin(problematic_values)\n",
        "df_problematic = df[mask_problematic]\n",
        "print(f\"\\nFound {len(df_problematic)} rows with problematic textual values:\")\n",
        "display(df_problematic[['Merchant Rating']].drop_duplicates())\n",
        "\n"
      ]
    },
    {
      "cell_type": "markdown",
      "metadata": {},
      "source": [
        "## Converting 'Listing Date' to Datetime\n",
        "\n",
        "The code below converts the `'Listing Date'` column from an object (string) type to a datetime type. This allows us to:\n",
        "\n",
        "- Perform date-based operations like sorting, filtering, or extracting year/month/day.\n",
        "- Handle invalid or missing dates gracefully with `errors='coerce'` (these will become `NaT`).\n",
        "- Ensure consistency in the dataset for analysis or visualization.\n",
        "\n",
        "We also strip any extra spaces from column names to avoid errors when accessing them.\n",
        "\n"
      ]
    },
    {
      "cell_type": "code",
      "execution_count": null,
      "metadata": {},
      "outputs": [
        {
          "name": "stdout",
          "output_type": "stream",
          "text": [
            "\n",
            "After conversion, data type of Listing Date column: datetime64[ns]\n"
          ]
        }
      ],
      "source": [
        "\n",
        "df.columns = df.columns.str.strip()\n",
        "\n",
        "\n",
        "df['Listing Date'] = pd.to_datetime(df['Listing Date'], errors='coerce')\n",
        "print(\"\\nAfter conversion, data type of Listing Date column:\", df['Listing Date'].dtype)\n",
        "\n"
      ]
    }
  ],
  "metadata": {
    "colab": {
      "authorship_tag": "ABX9TyMvULaQH/IDJFtIzeUHcU64",
      "include_colab_link": true,
      "provenance": []
    },
    "kernelspec": {
      "display_name": "Python 3",
      "name": "python3"
    },
    "language_info": {
      "name": "python"
    }
  },
  "nbformat": 4,
  "nbformat_minor": 0
}
